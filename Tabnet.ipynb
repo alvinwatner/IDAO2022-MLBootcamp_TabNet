{
  "nbformat": 4,
  "nbformat_minor": 0,
  "metadata": {
    "colab": {
      "name": "Tabnet.ipynb",
      "provenance": []
    },
    "kernelspec": {
      "name": "python3",
      "display_name": "Python 3"
    },
    "language_info": {
      "name": "python"
    },
    "accelerator": "GPU",
    "widgets": {
      "application/vnd.jupyter.widget-state+json": {
        "45d82a5f4f0140529712a7b40dd9ac3e": {
          "model_module": "@jupyter-widgets/controls",
          "model_name": "HBoxModel",
          "model_module_version": "1.5.0",
          "state": {
            "_view_name": "HBoxView",
            "_dom_classes": [],
            "_model_name": "HBoxModel",
            "_view_module": "@jupyter-widgets/controls",
            "_model_module_version": "1.5.0",
            "_view_count": null,
            "_view_module_version": "1.5.0",
            "box_style": "",
            "layout": "IPY_MODEL_8d8f2b6655d44298ac108669c0e92d57",
            "_model_module": "@jupyter-widgets/controls",
            "children": [
              "IPY_MODEL_45ccb8f3f44e42368862a1f07aac65ee",
              "IPY_MODEL_bdf8157d3ab548178f07fc31bcbf9b69",
              "IPY_MODEL_3bb3f0e7ce2d41d6a3639286e85c73b0"
            ]
          }
        },
        "8d8f2b6655d44298ac108669c0e92d57": {
          "model_module": "@jupyter-widgets/base",
          "model_name": "LayoutModel",
          "model_module_version": "1.2.0",
          "state": {
            "_view_name": "LayoutView",
            "grid_template_rows": null,
            "right": null,
            "justify_content": null,
            "_view_module": "@jupyter-widgets/base",
            "overflow": null,
            "_model_module_version": "1.2.0",
            "_view_count": null,
            "flex_flow": null,
            "width": null,
            "min_width": null,
            "border": null,
            "align_items": null,
            "bottom": null,
            "_model_module": "@jupyter-widgets/base",
            "top": null,
            "grid_column": null,
            "overflow_y": null,
            "overflow_x": null,
            "grid_auto_flow": null,
            "grid_area": null,
            "grid_template_columns": null,
            "flex": null,
            "_model_name": "LayoutModel",
            "justify_items": null,
            "grid_row": null,
            "max_height": null,
            "align_content": null,
            "visibility": null,
            "align_self": null,
            "height": null,
            "min_height": null,
            "padding": null,
            "grid_auto_rows": null,
            "grid_gap": null,
            "max_width": null,
            "order": null,
            "_view_module_version": "1.2.0",
            "grid_template_areas": null,
            "object_position": null,
            "object_fit": null,
            "grid_auto_columns": null,
            "margin": null,
            "display": null,
            "left": null
          }
        },
        "45ccb8f3f44e42368862a1f07aac65ee": {
          "model_module": "@jupyter-widgets/controls",
          "model_name": "HTMLModel",
          "model_module_version": "1.5.0",
          "state": {
            "_view_name": "HTMLView",
            "style": "IPY_MODEL_466a66a3e8854eb2a7748b42b493ad63",
            "_dom_classes": [],
            "description": "",
            "_model_name": "HTMLModel",
            "placeholder": "​",
            "_view_module": "@jupyter-widgets/controls",
            "_model_module_version": "1.5.0",
            "value": "",
            "_view_count": null,
            "_view_module_version": "1.5.0",
            "description_tooltip": null,
            "_model_module": "@jupyter-widgets/controls",
            "layout": "IPY_MODEL_d1532b9746be4ed9a13c67b432ffcd89"
          }
        },
        "bdf8157d3ab548178f07fc31bcbf9b69": {
          "model_module": "@jupyter-widgets/controls",
          "model_name": "FloatProgressModel",
          "model_module_version": "1.5.0",
          "state": {
            "_view_name": "ProgressView",
            "style": "IPY_MODEL_af32a9d2cbf64bce87b50dec16bac767",
            "_dom_classes": [],
            "description": "",
            "_model_name": "FloatProgressModel",
            "bar_style": "success",
            "max": 1,
            "_view_module": "@jupyter-widgets/controls",
            "_model_module_version": "1.5.0",
            "value": 1,
            "_view_count": null,
            "_view_module_version": "1.5.0",
            "orientation": "horizontal",
            "min": 0,
            "description_tooltip": null,
            "_model_module": "@jupyter-widgets/controls",
            "layout": "IPY_MODEL_c6571dce408540838b23e8a7c1161a8d"
          }
        },
        "3bb3f0e7ce2d41d6a3639286e85c73b0": {
          "model_module": "@jupyter-widgets/controls",
          "model_name": "HTMLModel",
          "model_module_version": "1.5.0",
          "state": {
            "_view_name": "HTMLView",
            "style": "IPY_MODEL_4adbc6a90b9245f9b7d78da8aa2eca73",
            "_dom_classes": [],
            "description": "",
            "_model_name": "HTMLModel",
            "placeholder": "​",
            "_view_module": "@jupyter-widgets/controls",
            "_model_module_version": "1.5.0",
            "value": " 70000/? [00:12&lt;00:00, 5833.07it/s]",
            "_view_count": null,
            "_view_module_version": "1.5.0",
            "description_tooltip": null,
            "_model_module": "@jupyter-widgets/controls",
            "layout": "IPY_MODEL_e12a60c8ecd94bc6b84a32e852d607e1"
          }
        },
        "466a66a3e8854eb2a7748b42b493ad63": {
          "model_module": "@jupyter-widgets/controls",
          "model_name": "DescriptionStyleModel",
          "model_module_version": "1.5.0",
          "state": {
            "_view_name": "StyleView",
            "_model_name": "DescriptionStyleModel",
            "description_width": "",
            "_view_module": "@jupyter-widgets/base",
            "_model_module_version": "1.5.0",
            "_view_count": null,
            "_view_module_version": "1.2.0",
            "_model_module": "@jupyter-widgets/controls"
          }
        },
        "d1532b9746be4ed9a13c67b432ffcd89": {
          "model_module": "@jupyter-widgets/base",
          "model_name": "LayoutModel",
          "model_module_version": "1.2.0",
          "state": {
            "_view_name": "LayoutView",
            "grid_template_rows": null,
            "right": null,
            "justify_content": null,
            "_view_module": "@jupyter-widgets/base",
            "overflow": null,
            "_model_module_version": "1.2.0",
            "_view_count": null,
            "flex_flow": null,
            "width": null,
            "min_width": null,
            "border": null,
            "align_items": null,
            "bottom": null,
            "_model_module": "@jupyter-widgets/base",
            "top": null,
            "grid_column": null,
            "overflow_y": null,
            "overflow_x": null,
            "grid_auto_flow": null,
            "grid_area": null,
            "grid_template_columns": null,
            "flex": null,
            "_model_name": "LayoutModel",
            "justify_items": null,
            "grid_row": null,
            "max_height": null,
            "align_content": null,
            "visibility": null,
            "align_self": null,
            "height": null,
            "min_height": null,
            "padding": null,
            "grid_auto_rows": null,
            "grid_gap": null,
            "max_width": null,
            "order": null,
            "_view_module_version": "1.2.0",
            "grid_template_areas": null,
            "object_position": null,
            "object_fit": null,
            "grid_auto_columns": null,
            "margin": null,
            "display": null,
            "left": null
          }
        },
        "af32a9d2cbf64bce87b50dec16bac767": {
          "model_module": "@jupyter-widgets/controls",
          "model_name": "ProgressStyleModel",
          "model_module_version": "1.5.0",
          "state": {
            "_view_name": "StyleView",
            "_model_name": "ProgressStyleModel",
            "description_width": "",
            "_view_module": "@jupyter-widgets/base",
            "_model_module_version": "1.5.0",
            "_view_count": null,
            "_view_module_version": "1.2.0",
            "bar_color": null,
            "_model_module": "@jupyter-widgets/controls"
          }
        },
        "c6571dce408540838b23e8a7c1161a8d": {
          "model_module": "@jupyter-widgets/base",
          "model_name": "LayoutModel",
          "model_module_version": "1.2.0",
          "state": {
            "_view_name": "LayoutView",
            "grid_template_rows": null,
            "right": null,
            "justify_content": null,
            "_view_module": "@jupyter-widgets/base",
            "overflow": null,
            "_model_module_version": "1.2.0",
            "_view_count": null,
            "flex_flow": null,
            "width": "20px",
            "min_width": null,
            "border": null,
            "align_items": null,
            "bottom": null,
            "_model_module": "@jupyter-widgets/base",
            "top": null,
            "grid_column": null,
            "overflow_y": null,
            "overflow_x": null,
            "grid_auto_flow": null,
            "grid_area": null,
            "grid_template_columns": null,
            "flex": null,
            "_model_name": "LayoutModel",
            "justify_items": null,
            "grid_row": null,
            "max_height": null,
            "align_content": null,
            "visibility": null,
            "align_self": null,
            "height": null,
            "min_height": null,
            "padding": null,
            "grid_auto_rows": null,
            "grid_gap": null,
            "max_width": null,
            "order": null,
            "_view_module_version": "1.2.0",
            "grid_template_areas": null,
            "object_position": null,
            "object_fit": null,
            "grid_auto_columns": null,
            "margin": null,
            "display": null,
            "left": null
          }
        },
        "4adbc6a90b9245f9b7d78da8aa2eca73": {
          "model_module": "@jupyter-widgets/controls",
          "model_name": "DescriptionStyleModel",
          "model_module_version": "1.5.0",
          "state": {
            "_view_name": "StyleView",
            "_model_name": "DescriptionStyleModel",
            "description_width": "",
            "_view_module": "@jupyter-widgets/base",
            "_model_module_version": "1.5.0",
            "_view_count": null,
            "_view_module_version": "1.2.0",
            "_model_module": "@jupyter-widgets/controls"
          }
        },
        "e12a60c8ecd94bc6b84a32e852d607e1": {
          "model_module": "@jupyter-widgets/base",
          "model_name": "LayoutModel",
          "model_module_version": "1.2.0",
          "state": {
            "_view_name": "LayoutView",
            "grid_template_rows": null,
            "right": null,
            "justify_content": null,
            "_view_module": "@jupyter-widgets/base",
            "overflow": null,
            "_model_module_version": "1.2.0",
            "_view_count": null,
            "flex_flow": null,
            "width": null,
            "min_width": null,
            "border": null,
            "align_items": null,
            "bottom": null,
            "_model_module": "@jupyter-widgets/base",
            "top": null,
            "grid_column": null,
            "overflow_y": null,
            "overflow_x": null,
            "grid_auto_flow": null,
            "grid_area": null,
            "grid_template_columns": null,
            "flex": null,
            "_model_name": "LayoutModel",
            "justify_items": null,
            "grid_row": null,
            "max_height": null,
            "align_content": null,
            "visibility": null,
            "align_self": null,
            "height": null,
            "min_height": null,
            "padding": null,
            "grid_auto_rows": null,
            "grid_gap": null,
            "max_width": null,
            "order": null,
            "_view_module_version": "1.2.0",
            "grid_template_areas": null,
            "object_position": null,
            "object_fit": null,
            "grid_auto_columns": null,
            "margin": null,
            "display": null,
            "left": null
          }
        }
      }
    }
  },
  "cells": [
    {
      "cell_type": "markdown",
      "metadata": {
        "id": "P30NM0kjqk0i"
      },
      "source": [
        "# This notebook is one solution provided by using [tabnet](https://arxiv.org/pdf/1908.07442.pdf) which is part of \"[IDAO 2021 ML Bootcamp](https://idao.world/bootcamp/)\" kaggle competition on [Insomnia](https://www.kaggle.com/c/idao-2022-bootcamp-insomnia/submit) dataset."
      ]
    },
    {
      "cell_type": "code",
      "metadata": {
        "colab": {
          "base_uri": "https://localhost:8080/"
        },
        "id": "NGt0fj2El2al",
        "outputId": "e37e0e0b-fcf7-4d06-a852-bf6d1391c56d"
      },
      "source": [
        "!pip install pytorch-tabnet"
      ],
      "execution_count": null,
      "outputs": [
        {
          "output_type": "stream",
          "name": "stdout",
          "text": [
            "Collecting pytorch-tabnet\n",
            "  Downloading pytorch_tabnet-3.1.1-py3-none-any.whl (39 kB)\n",
            "Requirement already satisfied: numpy<2.0,>=1.17 in /usr/local/lib/python3.7/dist-packages (from pytorch-tabnet) (1.19.5)\n",
            "Requirement already satisfied: scipy>1.4 in /usr/local/lib/python3.7/dist-packages (from pytorch-tabnet) (1.4.1)\n",
            "Requirement already satisfied: scikit_learn>0.21 in /usr/local/lib/python3.7/dist-packages (from pytorch-tabnet) (1.0.1)\n",
            "Requirement already satisfied: torch<2.0,>=1.2 in /usr/local/lib/python3.7/dist-packages (from pytorch-tabnet) (1.10.0+cu111)\n",
            "Requirement already satisfied: tqdm<5.0,>=4.36 in /usr/local/lib/python3.7/dist-packages (from pytorch-tabnet) (4.62.3)\n",
            "Requirement already satisfied: joblib>=0.11 in /usr/local/lib/python3.7/dist-packages (from scikit_learn>0.21->pytorch-tabnet) (1.1.0)\n",
            "Requirement already satisfied: threadpoolctl>=2.0.0 in /usr/local/lib/python3.7/dist-packages (from scikit_learn>0.21->pytorch-tabnet) (3.0.0)\n",
            "Requirement already satisfied: typing-extensions in /usr/local/lib/python3.7/dist-packages (from torch<2.0,>=1.2->pytorch-tabnet) (3.10.0.2)\n",
            "Installing collected packages: pytorch-tabnet\n",
            "Successfully installed pytorch-tabnet-3.1.1\n"
          ]
        }
      ]
    },
    {
      "cell_type": "code",
      "metadata": {
        "id": "veU4Tweym7sF"
      },
      "source": [
        "import numpy as np \n",
        "import pandas as pd \n",
        "import matplotlib.pyplot as plt \n",
        "from tqdm.notebook import tqdm\n",
        "\n",
        "from sklearn.model_selection import train_test_split\n",
        "\n",
        "from pytorch_tabnet.tab_model import TabNetRegressor"
      ],
      "execution_count": null,
      "outputs": []
    },
    {
      "cell_type": "code",
      "metadata": {
        "id": "Tx1HS6UTnAj3"
      },
      "source": [
        "train = pd.read_csv('/content/TRAIN.csv')\n",
        "test = pd.read_csv('/content/TEST.csv')\n",
        "sample_submission = pd.read_csv('/content/sample_submission.csv')"
      ],
      "execution_count": null,
      "outputs": []
    },
    {
      "cell_type": "code",
      "metadata": {
        "colab": {
          "base_uri": "https://localhost:8080/",
          "height": 293
        },
        "id": "LIkV3Al5nb10",
        "outputId": "4945ea45-adfb-4d77-d6b5-6e8a414f379f"
      },
      "source": [
        "print(f\"train.shape = {train.shape} | test.shape = {test.shape} | sample_submission.shape = {sample_submission.shape}\")\n",
        "train.head(7)"
      ],
      "execution_count": null,
      "outputs": [
        {
          "output_type": "stream",
          "name": "stdout",
          "text": [
            "train, test, sample_submission shapes\n",
            "(70000, 13) (30000, 12) (30000, 2)\n"
          ]
        },
        {
          "output_type": "execute_result",
          "data": {
            "text/html": [
              "<div>\n",
              "<style scoped>\n",
              "    .dataframe tbody tr th:only-of-type {\n",
              "        vertical-align: middle;\n",
              "    }\n",
              "\n",
              "    .dataframe tbody tr th {\n",
              "        vertical-align: top;\n",
              "    }\n",
              "\n",
              "    .dataframe thead th {\n",
              "        text-align: right;\n",
              "    }\n",
              "</style>\n",
              "<table border=\"1\" class=\"dataframe\">\n",
              "  <thead>\n",
              "    <tr style=\"text-align: right;\">\n",
              "      <th></th>\n",
              "      <th>id</th>\n",
              "      <th>age</th>\n",
              "      <th>weight</th>\n",
              "      <th>height</th>\n",
              "      <th>sex</th>\n",
              "      <th>stress</th>\n",
              "      <th>doctor</th>\n",
              "      <th>sport</th>\n",
              "      <th>pernicious_1</th>\n",
              "      <th>pernicious_2</th>\n",
              "      <th>ubp</th>\n",
              "      <th>lbp</th>\n",
              "      <th>insomnia</th>\n",
              "    </tr>\n",
              "  </thead>\n",
              "  <tbody>\n",
              "    <tr>\n",
              "      <th>0</th>\n",
              "      <td>0</td>\n",
              "      <td>50.357290</td>\n",
              "      <td>62.0</td>\n",
              "      <td>168</td>\n",
              "      <td>2</td>\n",
              "      <td>1</td>\n",
              "      <td>1</td>\n",
              "      <td>1</td>\n",
              "      <td>0</td>\n",
              "      <td>0</td>\n",
              "      <td>110</td>\n",
              "      <td>80</td>\n",
              "      <td>0</td>\n",
              "    </tr>\n",
              "    <tr>\n",
              "      <th>1</th>\n",
              "      <td>1</td>\n",
              "      <td>55.381246</td>\n",
              "      <td>85.0</td>\n",
              "      <td>156</td>\n",
              "      <td>1</td>\n",
              "      <td>3</td>\n",
              "      <td>1</td>\n",
              "      <td>1</td>\n",
              "      <td>0</td>\n",
              "      <td>0</td>\n",
              "      <td>140</td>\n",
              "      <td>90</td>\n",
              "      <td>1</td>\n",
              "    </tr>\n",
              "    <tr>\n",
              "      <th>2</th>\n",
              "      <td>2</td>\n",
              "      <td>51.627652</td>\n",
              "      <td>64.0</td>\n",
              "      <td>165</td>\n",
              "      <td>1</td>\n",
              "      <td>3</td>\n",
              "      <td>1</td>\n",
              "      <td>0</td>\n",
              "      <td>0</td>\n",
              "      <td>0</td>\n",
              "      <td>130</td>\n",
              "      <td>70</td>\n",
              "      <td>1</td>\n",
              "    </tr>\n",
              "    <tr>\n",
              "      <th>3</th>\n",
              "      <td>3</td>\n",
              "      <td>48.249144</td>\n",
              "      <td>82.0</td>\n",
              "      <td>169</td>\n",
              "      <td>2</td>\n",
              "      <td>1</td>\n",
              "      <td>1</td>\n",
              "      <td>1</td>\n",
              "      <td>0</td>\n",
              "      <td>0</td>\n",
              "      <td>150</td>\n",
              "      <td>100</td>\n",
              "      <td>1</td>\n",
              "    </tr>\n",
              "    <tr>\n",
              "      <th>4</th>\n",
              "      <td>4</td>\n",
              "      <td>47.841205</td>\n",
              "      <td>56.0</td>\n",
              "      <td>156</td>\n",
              "      <td>1</td>\n",
              "      <td>1</td>\n",
              "      <td>1</td>\n",
              "      <td>0</td>\n",
              "      <td>0</td>\n",
              "      <td>0</td>\n",
              "      <td>100</td>\n",
              "      <td>60</td>\n",
              "      <td>0</td>\n",
              "    </tr>\n",
              "    <tr>\n",
              "      <th>5</th>\n",
              "      <td>8</td>\n",
              "      <td>59.997262</td>\n",
              "      <td>67.0</td>\n",
              "      <td>151</td>\n",
              "      <td>1</td>\n",
              "      <td>2</td>\n",
              "      <td>2</td>\n",
              "      <td>0</td>\n",
              "      <td>0</td>\n",
              "      <td>0</td>\n",
              "      <td>120</td>\n",
              "      <td>80</td>\n",
              "      <td>0</td>\n",
              "    </tr>\n",
              "    <tr>\n",
              "      <th>6</th>\n",
              "      <td>9</td>\n",
              "      <td>60.542094</td>\n",
              "      <td>93.0</td>\n",
              "      <td>157</td>\n",
              "      <td>1</td>\n",
              "      <td>3</td>\n",
              "      <td>1</td>\n",
              "      <td>1</td>\n",
              "      <td>0</td>\n",
              "      <td>0</td>\n",
              "      <td>130</td>\n",
              "      <td>80</td>\n",
              "      <td>0</td>\n",
              "    </tr>\n",
              "  </tbody>\n",
              "</table>\n",
              "</div>"
            ],
            "text/plain": [
              "   id        age  weight  height  ...  pernicious_2  ubp  lbp  insomnia\n",
              "0   0  50.357290    62.0     168  ...             0  110   80         0\n",
              "1   1  55.381246    85.0     156  ...             0  140   90         1\n",
              "2   2  51.627652    64.0     165  ...             0  130   70         1\n",
              "3   3  48.249144    82.0     169  ...             0  150  100         1\n",
              "4   4  47.841205    56.0     156  ...             0  100   60         0\n",
              "5   8  59.997262    67.0     151  ...             0  120   80         0\n",
              "6   9  60.542094    93.0     157  ...             0  130   80         0\n",
              "\n",
              "[7 rows x 13 columns]"
            ]
          },
          "metadata": {},
          "execution_count": 6
        }
      ]
    },
    {
      "cell_type": "code",
      "metadata": {
        "colab": {
          "base_uri": "https://localhost:8080/",
          "height": 197
        },
        "id": "Rfca8QrUUU5o",
        "outputId": "272dba90-26a1-477d-c00b-5749f01e12c6"
      },
      "source": [
        "# drop *doctor* (correlated with *stress*, but less correlated with target) \n",
        "train = train.drop(columns=['doctor', 'id'])\n",
        "test = test.drop(columns=['doctor', 'id'])\n",
        "train.head()"
      ],
      "execution_count": null,
      "outputs": [
        {
          "output_type": "execute_result",
          "data": {
            "text/html": [
              "<div>\n",
              "<style scoped>\n",
              "    .dataframe tbody tr th:only-of-type {\n",
              "        vertical-align: middle;\n",
              "    }\n",
              "\n",
              "    .dataframe tbody tr th {\n",
              "        vertical-align: top;\n",
              "    }\n",
              "\n",
              "    .dataframe thead th {\n",
              "        text-align: right;\n",
              "    }\n",
              "</style>\n",
              "<table border=\"1\" class=\"dataframe\">\n",
              "  <thead>\n",
              "    <tr style=\"text-align: right;\">\n",
              "      <th></th>\n",
              "      <th>age</th>\n",
              "      <th>weight</th>\n",
              "      <th>height</th>\n",
              "      <th>sex</th>\n",
              "      <th>stress</th>\n",
              "      <th>sport</th>\n",
              "      <th>pernicious_1</th>\n",
              "      <th>pernicious_2</th>\n",
              "      <th>ubp</th>\n",
              "      <th>lbp</th>\n",
              "      <th>insomnia</th>\n",
              "    </tr>\n",
              "  </thead>\n",
              "  <tbody>\n",
              "    <tr>\n",
              "      <th>0</th>\n",
              "      <td>50.357290</td>\n",
              "      <td>62.0</td>\n",
              "      <td>168</td>\n",
              "      <td>2</td>\n",
              "      <td>1</td>\n",
              "      <td>1</td>\n",
              "      <td>0</td>\n",
              "      <td>0</td>\n",
              "      <td>110</td>\n",
              "      <td>80</td>\n",
              "      <td>0</td>\n",
              "    </tr>\n",
              "    <tr>\n",
              "      <th>1</th>\n",
              "      <td>55.381246</td>\n",
              "      <td>85.0</td>\n",
              "      <td>156</td>\n",
              "      <td>1</td>\n",
              "      <td>3</td>\n",
              "      <td>1</td>\n",
              "      <td>0</td>\n",
              "      <td>0</td>\n",
              "      <td>140</td>\n",
              "      <td>90</td>\n",
              "      <td>1</td>\n",
              "    </tr>\n",
              "    <tr>\n",
              "      <th>2</th>\n",
              "      <td>51.627652</td>\n",
              "      <td>64.0</td>\n",
              "      <td>165</td>\n",
              "      <td>1</td>\n",
              "      <td>3</td>\n",
              "      <td>0</td>\n",
              "      <td>0</td>\n",
              "      <td>0</td>\n",
              "      <td>130</td>\n",
              "      <td>70</td>\n",
              "      <td>1</td>\n",
              "    </tr>\n",
              "    <tr>\n",
              "      <th>3</th>\n",
              "      <td>48.249144</td>\n",
              "      <td>82.0</td>\n",
              "      <td>169</td>\n",
              "      <td>2</td>\n",
              "      <td>1</td>\n",
              "      <td>1</td>\n",
              "      <td>0</td>\n",
              "      <td>0</td>\n",
              "      <td>150</td>\n",
              "      <td>100</td>\n",
              "      <td>1</td>\n",
              "    </tr>\n",
              "    <tr>\n",
              "      <th>4</th>\n",
              "      <td>47.841205</td>\n",
              "      <td>56.0</td>\n",
              "      <td>156</td>\n",
              "      <td>1</td>\n",
              "      <td>1</td>\n",
              "      <td>0</td>\n",
              "      <td>0</td>\n",
              "      <td>0</td>\n",
              "      <td>100</td>\n",
              "      <td>60</td>\n",
              "      <td>0</td>\n",
              "    </tr>\n",
              "  </tbody>\n",
              "</table>\n",
              "</div>"
            ],
            "text/plain": [
              "         age  weight  height  sex  ...  pernicious_2  ubp  lbp  insomnia\n",
              "0  50.357290    62.0     168    2  ...             0  110   80         0\n",
              "1  55.381246    85.0     156    1  ...             0  140   90         1\n",
              "2  51.627652    64.0     165    1  ...             0  130   70         1\n",
              "3  48.249144    82.0     169    2  ...             0  150  100         1\n",
              "4  47.841205    56.0     156    1  ...             0  100   60         0\n",
              "\n",
              "[5 rows x 11 columns]"
            ]
          },
          "metadata": {},
          "execution_count": 7
        }
      ]
    },
    {
      "cell_type": "code",
      "metadata": {
        "id": "ohCcXn0aU3Hl"
      },
      "source": [
        "# fix nulls \n",
        "\n",
        "# pernicious_1 & pernicious_2 correelate with *sex* a little \n",
        "# so fill nulls with regard to it: \n",
        "# 1 for *sex* == 2 and 0, otherwise \n",
        "pernicious_1_nan_male = np.where((np.isnan(test['pernicious_1']) & (test['sex']==2)), \n",
        "                               1, \n",
        "                               test['pernicious_1'])\n",
        "test['pernicious_1'] = pernicious_1_nan_male\n",
        "test['pernicious_1'] = test['pernicious_1'].fillna(0)\n",
        "\n",
        "pernicious_2_nan_male = np.where((np.isnan(test['pernicious_2']) & (test['sex']==2)), \n",
        "                               1, \n",
        "                               test['pernicious_2'])\n",
        "test['pernicious_2'] = pernicious_2_nan_male\n",
        "test['pernicious_2'] = test['pernicious_2'].fillna(0)\n",
        "\n",
        "# fill in *sport* with median\n",
        "test['sport'] = test['sport'].median()"
      ],
      "execution_count": null,
      "outputs": []
    },
    {
      "cell_type": "code",
      "metadata": {
        "colab": {
          "base_uri": "https://localhost:8080/",
          "height": 197
        },
        "id": "quJMOl5-U6E8",
        "outputId": "76980b1a-b163-41be-a19d-24f1253d113d"
      },
      "source": [
        "train.head()"
      ],
      "execution_count": null,
      "outputs": [
        {
          "output_type": "execute_result",
          "data": {
            "text/html": [
              "<div>\n",
              "<style scoped>\n",
              "    .dataframe tbody tr th:only-of-type {\n",
              "        vertical-align: middle;\n",
              "    }\n",
              "\n",
              "    .dataframe tbody tr th {\n",
              "        vertical-align: top;\n",
              "    }\n",
              "\n",
              "    .dataframe thead th {\n",
              "        text-align: right;\n",
              "    }\n",
              "</style>\n",
              "<table border=\"1\" class=\"dataframe\">\n",
              "  <thead>\n",
              "    <tr style=\"text-align: right;\">\n",
              "      <th></th>\n",
              "      <th>age</th>\n",
              "      <th>weight</th>\n",
              "      <th>height</th>\n",
              "      <th>sex</th>\n",
              "      <th>stress</th>\n",
              "      <th>sport</th>\n",
              "      <th>pernicious_1</th>\n",
              "      <th>pernicious_2</th>\n",
              "      <th>ubp</th>\n",
              "      <th>lbp</th>\n",
              "      <th>insomnia</th>\n",
              "    </tr>\n",
              "  </thead>\n",
              "  <tbody>\n",
              "    <tr>\n",
              "      <th>0</th>\n",
              "      <td>50.357290</td>\n",
              "      <td>62.0</td>\n",
              "      <td>168</td>\n",
              "      <td>2</td>\n",
              "      <td>1</td>\n",
              "      <td>1</td>\n",
              "      <td>0</td>\n",
              "      <td>0</td>\n",
              "      <td>110</td>\n",
              "      <td>80</td>\n",
              "      <td>0</td>\n",
              "    </tr>\n",
              "    <tr>\n",
              "      <th>1</th>\n",
              "      <td>55.381246</td>\n",
              "      <td>85.0</td>\n",
              "      <td>156</td>\n",
              "      <td>1</td>\n",
              "      <td>3</td>\n",
              "      <td>1</td>\n",
              "      <td>0</td>\n",
              "      <td>0</td>\n",
              "      <td>140</td>\n",
              "      <td>90</td>\n",
              "      <td>1</td>\n",
              "    </tr>\n",
              "    <tr>\n",
              "      <th>2</th>\n",
              "      <td>51.627652</td>\n",
              "      <td>64.0</td>\n",
              "      <td>165</td>\n",
              "      <td>1</td>\n",
              "      <td>3</td>\n",
              "      <td>0</td>\n",
              "      <td>0</td>\n",
              "      <td>0</td>\n",
              "      <td>130</td>\n",
              "      <td>70</td>\n",
              "      <td>1</td>\n",
              "    </tr>\n",
              "    <tr>\n",
              "      <th>3</th>\n",
              "      <td>48.249144</td>\n",
              "      <td>82.0</td>\n",
              "      <td>169</td>\n",
              "      <td>2</td>\n",
              "      <td>1</td>\n",
              "      <td>1</td>\n",
              "      <td>0</td>\n",
              "      <td>0</td>\n",
              "      <td>150</td>\n",
              "      <td>100</td>\n",
              "      <td>1</td>\n",
              "    </tr>\n",
              "    <tr>\n",
              "      <th>4</th>\n",
              "      <td>47.841205</td>\n",
              "      <td>56.0</td>\n",
              "      <td>156</td>\n",
              "      <td>1</td>\n",
              "      <td>1</td>\n",
              "      <td>0</td>\n",
              "      <td>0</td>\n",
              "      <td>0</td>\n",
              "      <td>100</td>\n",
              "      <td>60</td>\n",
              "      <td>0</td>\n",
              "    </tr>\n",
              "  </tbody>\n",
              "</table>\n",
              "</div>"
            ],
            "text/plain": [
              "         age  weight  height  sex  ...  pernicious_2  ubp  lbp  insomnia\n",
              "0  50.357290    62.0     168    2  ...             0  110   80         0\n",
              "1  55.381246    85.0     156    1  ...             0  140   90         1\n",
              "2  51.627652    64.0     165    1  ...             0  130   70         1\n",
              "3  48.249144    82.0     169    2  ...             0  150  100         1\n",
              "4  47.841205    56.0     156    1  ...             0  100   60         0\n",
              "\n",
              "[5 rows x 11 columns]"
            ]
          },
          "metadata": {},
          "execution_count": 162
        }
      ]
    },
    {
      "cell_type": "code",
      "metadata": {
        "id": "kwWACtIsWWDa"
      },
      "source": [
        "# one-hot-encoding categorical features\n",
        "\n",
        "stress_train_ohe = pd.get_dummies(train['stress'], prefix='stress').drop(columns='stress_3')\n",
        "stress_test_ohe = pd.get_dummies(test['stress'], prefix='stress').drop(columns='stress_3')\n",
        "\n",
        "train = train.drop(columns='stress')\n",
        "test = test.drop(columns='stress')\n",
        "\n",
        "train = train.join(stress_train_ohe)\n",
        "test = test.join(stress_test_ohe)"
      ],
      "execution_count": null,
      "outputs": []
    },
    {
      "cell_type": "code",
      "metadata": {
        "colab": {
          "base_uri": "https://localhost:8080/",
          "height": 197
        },
        "id": "VZmhkv4eWZQN",
        "outputId": "a971a1df-fd49-4036-b1ab-8f09f05926b6"
      },
      "source": [
        "train.head()"
      ],
      "execution_count": null,
      "outputs": [
        {
          "output_type": "execute_result",
          "data": {
            "text/html": [
              "<div>\n",
              "<style scoped>\n",
              "    .dataframe tbody tr th:only-of-type {\n",
              "        vertical-align: middle;\n",
              "    }\n",
              "\n",
              "    .dataframe tbody tr th {\n",
              "        vertical-align: top;\n",
              "    }\n",
              "\n",
              "    .dataframe thead th {\n",
              "        text-align: right;\n",
              "    }\n",
              "</style>\n",
              "<table border=\"1\" class=\"dataframe\">\n",
              "  <thead>\n",
              "    <tr style=\"text-align: right;\">\n",
              "      <th></th>\n",
              "      <th>age</th>\n",
              "      <th>weight</th>\n",
              "      <th>height</th>\n",
              "      <th>sex</th>\n",
              "      <th>sport</th>\n",
              "      <th>pernicious_1</th>\n",
              "      <th>pernicious_2</th>\n",
              "      <th>ubp</th>\n",
              "      <th>lbp</th>\n",
              "      <th>insomnia</th>\n",
              "      <th>stress_1</th>\n",
              "      <th>stress_2</th>\n",
              "    </tr>\n",
              "  </thead>\n",
              "  <tbody>\n",
              "    <tr>\n",
              "      <th>0</th>\n",
              "      <td>50.357290</td>\n",
              "      <td>62.0</td>\n",
              "      <td>168</td>\n",
              "      <td>2</td>\n",
              "      <td>1</td>\n",
              "      <td>0</td>\n",
              "      <td>0</td>\n",
              "      <td>110</td>\n",
              "      <td>80</td>\n",
              "      <td>0</td>\n",
              "      <td>1</td>\n",
              "      <td>0</td>\n",
              "    </tr>\n",
              "    <tr>\n",
              "      <th>1</th>\n",
              "      <td>55.381246</td>\n",
              "      <td>85.0</td>\n",
              "      <td>156</td>\n",
              "      <td>1</td>\n",
              "      <td>1</td>\n",
              "      <td>0</td>\n",
              "      <td>0</td>\n",
              "      <td>140</td>\n",
              "      <td>90</td>\n",
              "      <td>1</td>\n",
              "      <td>0</td>\n",
              "      <td>0</td>\n",
              "    </tr>\n",
              "    <tr>\n",
              "      <th>2</th>\n",
              "      <td>51.627652</td>\n",
              "      <td>64.0</td>\n",
              "      <td>165</td>\n",
              "      <td>1</td>\n",
              "      <td>0</td>\n",
              "      <td>0</td>\n",
              "      <td>0</td>\n",
              "      <td>130</td>\n",
              "      <td>70</td>\n",
              "      <td>1</td>\n",
              "      <td>0</td>\n",
              "      <td>0</td>\n",
              "    </tr>\n",
              "    <tr>\n",
              "      <th>3</th>\n",
              "      <td>48.249144</td>\n",
              "      <td>82.0</td>\n",
              "      <td>169</td>\n",
              "      <td>2</td>\n",
              "      <td>1</td>\n",
              "      <td>0</td>\n",
              "      <td>0</td>\n",
              "      <td>150</td>\n",
              "      <td>100</td>\n",
              "      <td>1</td>\n",
              "      <td>1</td>\n",
              "      <td>0</td>\n",
              "    </tr>\n",
              "    <tr>\n",
              "      <th>4</th>\n",
              "      <td>47.841205</td>\n",
              "      <td>56.0</td>\n",
              "      <td>156</td>\n",
              "      <td>1</td>\n",
              "      <td>0</td>\n",
              "      <td>0</td>\n",
              "      <td>0</td>\n",
              "      <td>100</td>\n",
              "      <td>60</td>\n",
              "      <td>0</td>\n",
              "      <td>1</td>\n",
              "      <td>0</td>\n",
              "    </tr>\n",
              "  </tbody>\n",
              "</table>\n",
              "</div>"
            ],
            "text/plain": [
              "         age  weight  height  sex  ...  lbp  insomnia  stress_1  stress_2\n",
              "0  50.357290    62.0     168    2  ...   80         0         1         0\n",
              "1  55.381246    85.0     156    1  ...   90         1         0         0\n",
              "2  51.627652    64.0     165    1  ...   70         1         0         0\n",
              "3  48.249144    82.0     169    2  ...  100         1         1         0\n",
              "4  47.841205    56.0     156    1  ...   60         0         1         0\n",
              "\n",
              "[5 rows x 12 columns]"
            ]
          },
          "metadata": {},
          "execution_count": 10
        }
      ]
    },
    {
      "cell_type": "code",
      "metadata": {
        "colab": {
          "base_uri": "https://localhost:8080/",
          "height": 155,
          "referenced_widgets": [
            "45d82a5f4f0140529712a7b40dd9ac3e",
            "8d8f2b6655d44298ac108669c0e92d57",
            "45ccb8f3f44e42368862a1f07aac65ee",
            "bdf8157d3ab548178f07fc31bcbf9b69",
            "3bb3f0e7ce2d41d6a3639286e85c73b0",
            "466a66a3e8854eb2a7748b42b493ad63",
            "d1532b9746be4ed9a13c67b432ffcd89",
            "af32a9d2cbf64bce87b50dec16bac767",
            "c6571dce408540838b23e8a7c1161a8d",
            "4adbc6a90b9245f9b7d78da8aa2eca73",
            "e12a60c8ecd94bc6b84a32e852d607e1"
          ]
        },
        "id": "AknTYeJVuk1k",
        "outputId": "b6cc1c5c-9b08-48a7-b09c-b7e52525b7a1"
      },
      "source": [
        "# Utility function to transform ``dataframe`` to ``list``\n",
        "\n",
        "def transform_df_to_np_arr(df_inputs):\n",
        "  features_vectors = []\n",
        "\n",
        "  for index, row in tqdm(df_inputs.iterrows()):\n",
        "      features_vector = [df_inputs[feature][index] for feature in df_inputs.columns]\n",
        "      features_vectors.append(features_vector)    \n",
        "      \n",
        "  # convert to pytorch tensor\n",
        "  features_vectors = np.array(features_vectors)\n",
        "  return features_vectors"
      ],
      "execution_count": null,
      "outputs": [
        {
          "output_type": "display_data",
          "data": {
            "application/vnd.jupyter.widget-view+json": {
              "model_id": "45d82a5f4f0140529712a7b40dd9ac3e",
              "version_minor": 0,
              "version_major": 2
            },
            "text/plain": [
              "0it [00:00, ?it/s]"
            ]
          },
          "metadata": {}
        },
        {
          "output_type": "execute_result",
          "data": {
            "text/plain": [
              "array([[ 50.35728953,  62.        , 168.        ,   2.        ,\n",
              "          1.        ,   0.        ,   0.        , 110.        ,\n",
              "         80.        ,   1.        ,   0.        ],\n",
              "       [ 55.38124572,  85.        , 156.        ,   1.        ,\n",
              "          1.        ,   0.        ,   0.        , 140.        ,\n",
              "         90.        ,   0.        ,   0.        ]])"
            ]
          },
          "metadata": {},
          "execution_count": 12
        }
      ]
    },
    {
      "cell_type": "code",
      "metadata": {
        "colab": {
          "base_uri": "https://localhost:8080/",
          "height": 107
        },
        "id": "JZd2Bc24ujW_",
        "outputId": "f2f3506c-30ab-41dc-c642-b8e879903ea3"
      },
      "source": [
        "# step 1 : Prepare the input data by dropping the final column\n",
        "df_inputs = train.drop(\"insomnia\", axis=1, inplace=False)\n",
        "df_inputs[:2]"
      ],
      "execution_count": null,
      "outputs": [
        {
          "output_type": "execute_result",
          "data": {
            "text/html": [
              "<div>\n",
              "<style scoped>\n",
              "    .dataframe tbody tr th:only-of-type {\n",
              "        vertical-align: middle;\n",
              "    }\n",
              "\n",
              "    .dataframe tbody tr th {\n",
              "        vertical-align: top;\n",
              "    }\n",
              "\n",
              "    .dataframe thead th {\n",
              "        text-align: right;\n",
              "    }\n",
              "</style>\n",
              "<table border=\"1\" class=\"dataframe\">\n",
              "  <thead>\n",
              "    <tr style=\"text-align: right;\">\n",
              "      <th></th>\n",
              "      <th>age</th>\n",
              "      <th>weight</th>\n",
              "      <th>height</th>\n",
              "      <th>sex</th>\n",
              "      <th>sport</th>\n",
              "      <th>pernicious_1</th>\n",
              "      <th>pernicious_2</th>\n",
              "      <th>ubp</th>\n",
              "      <th>lbp</th>\n",
              "      <th>stress_1</th>\n",
              "      <th>stress_2</th>\n",
              "    </tr>\n",
              "  </thead>\n",
              "  <tbody>\n",
              "    <tr>\n",
              "      <th>0</th>\n",
              "      <td>50.357290</td>\n",
              "      <td>62.0</td>\n",
              "      <td>168</td>\n",
              "      <td>2</td>\n",
              "      <td>1</td>\n",
              "      <td>0</td>\n",
              "      <td>0</td>\n",
              "      <td>110</td>\n",
              "      <td>80</td>\n",
              "      <td>1</td>\n",
              "      <td>0</td>\n",
              "    </tr>\n",
              "    <tr>\n",
              "      <th>1</th>\n",
              "      <td>55.381246</td>\n",
              "      <td>85.0</td>\n",
              "      <td>156</td>\n",
              "      <td>1</td>\n",
              "      <td>1</td>\n",
              "      <td>0</td>\n",
              "      <td>0</td>\n",
              "      <td>140</td>\n",
              "      <td>90</td>\n",
              "      <td>0</td>\n",
              "      <td>0</td>\n",
              "    </tr>\n",
              "  </tbody>\n",
              "</table>\n",
              "</div>"
            ],
            "text/plain": [
              "         age  weight  height  sex  ...  ubp  lbp  stress_1  stress_2\n",
              "0  50.357290    62.0     168    2  ...  110   80         1         0\n",
              "1  55.381246    85.0     156    1  ...  140   90         0         0\n",
              "\n",
              "[2 rows x 11 columns]"
            ]
          },
          "metadata": {},
          "execution_count": 11
        }
      ]
    },
    {
      "cell_type": "code",
      "metadata": {
        "id": "xGWN-3Dnmwbf"
      },
      "source": [
        "# step 2 : Transform the input data from `df` to `np.array`\n",
        "train_features_vectors = transform_df_to_np_arr(df_inputs)\n",
        "train_features_vectors[:2]"
      ],
      "execution_count": null,
      "outputs": []
    },
    {
      "cell_type": "code",
      "metadata": {
        "colab": {
          "base_uri": "https://localhost:8080/"
        },
        "id": "lX60sgSkuogy",
        "outputId": "4c61df8c-bd89-4a9c-e59e-6661e539c984"
      },
      "source": [
        "# step 3 : Transform the target variable from `df` to `np.array`\n",
        "targets = np.array(train['insomnia'])"
      ],
      "execution_count": null,
      "outputs": [
        {
          "output_type": "stream",
          "name": "stdout",
          "text": [
            "[0 1]\n",
            "(70000,)\n"
          ]
        }
      ]
    },
    {
      "cell_type": "code",
      "metadata": {
        "id": "rA_29M4FxB8q"
      },
      "source": [
        "# step 4 : Split the train_features_vectors into train and validation set\n",
        "X_train, X_val, y_train, y_val = train_test_split(train_features_vectors, \n",
        "                                                  targets, \n",
        "                                                  test_size=0.3, \n",
        "                                                  random_state=13)"
      ],
      "execution_count": null,
      "outputs": []
    },
    {
      "cell_type": "code",
      "metadata": {
        "colab": {
          "base_uri": "https://localhost:8080/"
        },
        "id": "Xz3p1nUpZj1A",
        "outputId": "358403e7-d649-4704-f078-1a0ae5bef683"
      },
      "source": [
        "# step 5 : Train the TabNet Model. \n",
        "# note : The reason I used TabNetReggresor instead of TabNetClassifier is because\n",
        "#        the sample submsission takes the probs, while the TabNetClassifier inference\n",
        "#        output the class\n",
        "\n",
        "clf = TabNetRegressor() \n",
        "clf.fit(\n",
        "  X_train, y_train,\n",
        "  eval_set=[(X_val, y_val)],\n",
        "  max_epochs=10 , patience=10,\n",
        "  batch_size=32\n",
        ")"
      ],
      "execution_count": null,
      "outputs": [
        {
          "output_type": "stream",
          "name": "stdout",
          "text": [
            "Device used : cuda\n",
            "Loading weights from unsupervised pretraining\n"
          ]
        },
        {
          "output_type": "stream",
          "name": "stderr",
          "text": [
            "/usr/local/lib/python3.7/dist-packages/pytorch_tabnet/abstract_model.py:97: UserWarning: Pretraining: mask_type changed from sparsemax to entmax\n",
            "  warnings.warn(wrn_msg)\n"
          ]
        },
        {
          "output_type": "stream",
          "name": "stdout",
          "text": [
            "epoch 0  | loss: 0.24101 | val_0_mse: 0.25073 |  0:00:49s\n",
            "epoch 1  | loss: 0.23605 | val_0_mse: 0.27839 |  0:01:39s\n",
            "epoch 2  | loss: 0.2367  | val_0_mse: 0.23417 |  0:02:29s\n",
            "epoch 3  | loss: 0.2357  | val_0_mse: 0.46651 |  0:03:19s\n",
            "epoch 4  | loss: 0.23564 | val_0_mse: 0.37139 |  0:04:10s\n",
            "epoch 5  | loss: 0.23553 | val_0_mse: 0.23747 |  0:05:00s\n",
            "epoch 6  | loss: 0.23525 | val_0_mse: 0.23742 |  0:05:50s\n",
            "epoch 7  | loss: 0.23496 | val_0_mse: 0.25768 |  0:06:40s\n",
            "epoch 8  | loss: 0.23491 | val_0_mse: 13.04676|  0:07:31s\n",
            "epoch 9  | loss: 0.23452 | val_0_mse: 8.48785 |  0:08:21s\n",
            "epoch 10 | loss: 0.23471 | val_0_mse: 15.52276|  0:09:11s\n",
            "epoch 11 | loss: 0.23482 | val_0_mse: 13.04274|  0:10:01s\n",
            "epoch 12 | loss: 0.23527 | val_0_mse: 0.48499 |  0:10:52s\n",
            "\n",
            "Early stopping occurred at epoch 12 with best_epoch = 2 and best_val_0_mse = 0.23417\n",
            "Best weights from best epoch are automatically used!\n"
          ]
        }
      ]
    },
    {
      "cell_type": "code",
      "metadata": {
        "colab": {
          "base_uri": "https://localhost:8080/"
        },
        "id": "rx9I0qQG2dfr",
        "outputId": "a05e2610-5260-4ebd-8820-8dd550a7fd04"
      },
      "source": [
        "# Step 6 : Do prediction on test set\n",
        "test_features_vector = transform_df_to_np_arr(test)\n",
        "preds = clf.predict(test_features_vector)\n",
        "preds = preds.reshape(-1).tolist()\n",
        "print(preds[:5])"
      ],
      "execution_count": null,
      "outputs": [
        {
          "output_type": "stream",
          "name": "stdout",
          "text": [
            "[0.533506453037262, 0.3747526705265045, 0.39136767387390137, 0.5600950717926025, 0.4312325716018677]\n"
          ]
        }
      ]
    },
    {
      "cell_type": "code",
      "metadata": {
        "colab": {
          "base_uri": "https://localhost:8080/",
          "height": 197
        },
        "id": "TiQVm9ol09j3",
        "outputId": "c4c12207-84c9-47d9-b4e2-dbbdbf0f017b"
      },
      "source": [
        "# Step 7 : Prepare the submission file \n",
        "test_submission = pd.DataFrame(sample_submission['id'])\n",
        "test_submission['insomnia'] = preds\n",
        "test_submission.head()"
      ],
      "execution_count": null,
      "outputs": [
        {
          "output_type": "execute_result",
          "data": {
            "text/html": [
              "<div>\n",
              "<style scoped>\n",
              "    .dataframe tbody tr th:only-of-type {\n",
              "        vertical-align: middle;\n",
              "    }\n",
              "\n",
              "    .dataframe tbody tr th {\n",
              "        vertical-align: top;\n",
              "    }\n",
              "\n",
              "    .dataframe thead th {\n",
              "        text-align: right;\n",
              "    }\n",
              "</style>\n",
              "<table border=\"1\" class=\"dataframe\">\n",
              "  <thead>\n",
              "    <tr style=\"text-align: right;\">\n",
              "      <th></th>\n",
              "      <th>id</th>\n",
              "      <th>insomnia</th>\n",
              "    </tr>\n",
              "  </thead>\n",
              "  <tbody>\n",
              "    <tr>\n",
              "      <th>0</th>\n",
              "      <td>5</td>\n",
              "      <td>0.533506</td>\n",
              "    </tr>\n",
              "    <tr>\n",
              "      <th>1</th>\n",
              "      <td>6</td>\n",
              "      <td>0.374753</td>\n",
              "    </tr>\n",
              "    <tr>\n",
              "      <th>2</th>\n",
              "      <td>7</td>\n",
              "      <td>0.391368</td>\n",
              "    </tr>\n",
              "    <tr>\n",
              "      <th>3</th>\n",
              "      <td>10</td>\n",
              "      <td>0.560095</td>\n",
              "    </tr>\n",
              "    <tr>\n",
              "      <th>4</th>\n",
              "      <td>11</td>\n",
              "      <td>0.431233</td>\n",
              "    </tr>\n",
              "  </tbody>\n",
              "</table>\n",
              "</div>"
            ],
            "text/plain": [
              "   id  insomnia\n",
              "0   5  0.533506\n",
              "1   6  0.374753\n",
              "2   7  0.391368\n",
              "3  10  0.560095\n",
              "4  11  0.431233"
            ]
          },
          "metadata": {},
          "execution_count": 31
        }
      ]
    },
    {
      "cell_type": "code",
      "metadata": {
        "colab": {
          "base_uri": "https://localhost:8080/"
        },
        "id": "s16aTllsQFXx",
        "outputId": "9fa2ae51-5645-47a0-d3f4-3b975594e876"
      },
      "source": [
        "# Step 8 : Check if the sample_submission has matched to our test_submission\n",
        "sample_submission.shape == test_submission.shape"
      ],
      "execution_count": null,
      "outputs": [
        {
          "output_type": "execute_result",
          "data": {
            "text/plain": [
              "True"
            ]
          },
          "metadata": {},
          "execution_count": 32
        }
      ]
    },
    {
      "cell_type": "code",
      "metadata": {
        "id": "BzFKRrg5P-9B"
      },
      "source": [
        "# Step 9 : Save the test_submission.csv to submit it in kaggle leaderboard\n",
        "test_submission.to_csv('test_submission.csv', index=False)"
      ],
      "execution_count": null,
      "outputs": []
    }
  ]
}